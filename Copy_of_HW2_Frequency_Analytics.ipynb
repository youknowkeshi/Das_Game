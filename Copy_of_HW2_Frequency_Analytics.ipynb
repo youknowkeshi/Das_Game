{
  "nbformat": 4,
  "nbformat_minor": 0,
  "metadata": {
    "kernelspec": {
      "name": "python36",
      "display_name": "Python 3.6",
      "language": "python"
    },
    "language_info": {
      "mimetype": "text/x-python",
      "nbconvert_exporter": "python",
      "name": "python",
      "pygments_lexer": "ipython3",
      "version": "3.6.6",
      "file_extension": ".py",
      "codemirror_mode": {
        "version": 3,
        "name": "ipython"
      }
    },
    "colab": {
      "provenance": [],
      "include_colab_link": true
    }
  },
  "cells": [
    {
      "cell_type": "markdown",
      "metadata": {
        "id": "view-in-github",
        "colab_type": "text"
      },
      "source": [
        "<a href=\"https://colab.research.google.com/github/youknowkeshi/Das_Game/blob/main/Copy_of_HW2_Frequency_Analytics.ipynb\" target=\"_parent\"><img src=\"https://colab.research.google.com/assets/colab-badge.svg\" alt=\"Open In Colab\"/></a>"
      ]
    },
    {
      "cell_type": "markdown",
      "metadata": {
        "id": "9H6Quuc9oh5K"
      },
      "source": [
        "# Homework 2 - Word Frequency Attack"
      ]
    },
    {
      "cell_type": "markdown",
      "metadata": {
        "id": "zJyEyDrCoh5L"
      },
      "source": [
        "## 1. For english, each letter has the following frequency (in percentage)"
      ]
    },
    {
      "cell_type": "code",
      "metadata": {
        "trusted": true,
        "id": "sIKVBrvXoh5M",
        "colab": {
          "base_uri": "https://localhost:8080/"
        },
        "outputId": "61fd485a-8ad9-4118-c1c3-10ba204efffd"
      },
      "source": [
        "letter_frequency = {\n",
        "    'a' : 8.497,\n",
        "    'b' : 1.492,\n",
        "    'c' : 2.202,\n",
        "    'd' : 4.253,\n",
        "    'e' : 11.162,\n",
        "    'f' : 2.228,\n",
        "    'g' : 2.015,\n",
        "    'h' : 6.094,\n",
        "    'i' : 7.546,\n",
        "    'j' : 0.153,\n",
        "    'k' : 1.292,\n",
        "    'l' : 4.025,\n",
        "    'm' : 2.406,\n",
        "    'n' : 6.749,\n",
        "    'o' : 7.507,\n",
        "    'p' : 1.929,\n",
        "    'q' : 0.095,\n",
        "    'r' : 7.587,\n",
        "    's' : 6.327,\n",
        "    't' : 9.356,\n",
        "    'u' : 2.758,\n",
        "    'v' : 0.978,\n",
        "    'w' : 2.560,\n",
        "    'x' : 0.150,\n",
        "    'y' : 1.994,\n",
        "    'z' : 0.077\n",
        "}\n",
        "\n",
        "# Let's sort it and show the result\n",
        "letter_frequency = {k: v for k, v in sorted(letter_frequency.items(), key=lambda item: item[1], reverse=True)}\n",
        "letter_frequency"
      ],
      "execution_count": 9,
      "outputs": [
        {
          "output_type": "execute_result",
          "data": {
            "text/plain": [
              "{'e': 11.162,\n",
              " 't': 9.356,\n",
              " 'a': 8.497,\n",
              " 'r': 7.587,\n",
              " 'i': 7.546,\n",
              " 'o': 7.507,\n",
              " 'n': 6.749,\n",
              " 's': 6.327,\n",
              " 'h': 6.094,\n",
              " 'd': 4.253,\n",
              " 'l': 4.025,\n",
              " 'u': 2.758,\n",
              " 'w': 2.56,\n",
              " 'm': 2.406,\n",
              " 'f': 2.228,\n",
              " 'c': 2.202,\n",
              " 'g': 2.015,\n",
              " 'y': 1.994,\n",
              " 'p': 1.929,\n",
              " 'b': 1.492,\n",
              " 'k': 1.292,\n",
              " 'v': 0.978,\n",
              " 'j': 0.153,\n",
              " 'x': 0.15,\n",
              " 'q': 0.095,\n",
              " 'z': 0.077}"
            ]
          },
          "metadata": {},
          "execution_count": 9
        }
      ]
    },
    {
      "cell_type": "markdown",
      "metadata": {
        "id": "wrl_DQgXoh5Q"
      },
      "source": [
        "## 2. Now, let's try to find freqency of this message"
      ]
    },
    {
      "cell_type": "code",
      "metadata": {
        "trusted": true,
        "id": "uhVY6COFoh5Q"
      },
      "source": [
        "example_text = '''\n",
        "The unanimous Declaration of the thirteen united States of America, When in the Course of human events, it becomes necessary for one people to dissolve the political bands which have connected them with another, and to assume among the powers of the earth, the separate and equal station to which the Laws of Nature and of Nature's God entitle them, a decent respect to the opinions of mankind requires that they should declare the causes which impel them to the separation.\n",
        "We hold these truths to be self-evident, that all men are created equal, that they are endowed by their Creator with certain unalienable Rights, that among these are Life, Liberty and the pursuit of Happiness.--That to secure these rights, Governments are instituted among Men, deriving their just powers from the consent of the governed, --That whenever any Form of Government becomes destructive of these ends, it is the Right of the People to alter or to abolish it, and to institute new Government, laying its foundation on such principles and organizing its powers in such form, as to them shall seem most likely to effect their Safety and Happiness. Prudence, indeed, will dictate that Governments long established should not be changed for light and transient causes; and accordingly all experience hath shewn, that mankind are more disposed to suffer, while evils are sufferable, than to right themselves by abolishing the forms to which they are accustomed. But when a long train of abuses and usurpations, pursuing invariably the same Object evinces a design to reduce them under absolute Despotism, it is their right, it is their duty, to throw off such Government, and to provide new Guards for their future security.--Such has been the patient sufferance of these Colonies; and such is now the necessity which constrains them to alter their former Systems of Government. The history of the present King of Great Britain is a history of repeated injuries and usurpations, all having in direct object the establishment of an absolute Tyranny over these States. To prove this, let Facts be submitted to a candid world.\n",
        "He has refused his Assent to Laws, the most wholesome and necessary for the public good.\n",
        "He has forbidden his Governors to pass Laws of immediate and pressing importance, unless suspended in their operation till his Assent should be obtained; and when so suspended, he has utterly neglected to attend to them.\n",
        "He has refused to pass other Laws for the accommodation of large districts of people, unless those people would relinquish the right of Representation in the Legislature, a right inestimable to them and formidable to tyrants only.\n",
        "He has called together legislative bodies at places unusual, uncomfortable, and distant from the depository of their public Records, for the sole purpose of fatiguing them into compliance with his measures.\n",
        "He has dissolved Representative Houses repeatedly, for opposing with manly firmness his invasions on the rights of the people.\n",
        "He has refused for a long time, after such dissolutions, to cause others to be elected; whereby the Legislative powers, incapable of Annihilation, have returned to the People at large for their exercise; the State remaining in the mean time exposed to all the dangers of invasion from without, and convulsions within.\n",
        "He has endeavoured to prevent the population of these States; for that purpose obstructing the Laws for Naturalization of Foreigners; refusing to pass others to encourage their migrations hither, and raising the conditions of new Appropriations of Lands.\n",
        "He has obstructed the Administration of Justice, by refusing his Assent to Laws for establishing Judiciary powers.\n",
        "He has made Judges dependent on his Will alone, for the tenure of their offices, and the amount and payment of their salaries.\n",
        "He has erected a multitude of New Offices, and sent hither swarms of Officers to harrass our people, and eat out their substance.\n",
        "He has kept among us, in times of peace, Standing Armies without the Consent of our legislatures.\n",
        "He has affected to render the Military independent of and superior to the Civil power.\n",
        "He has combined with others to subject us to a jurisdiction foreign to our constitution, and unacknowledged by our laws; giving his Assent to their Acts of pretended Legislation:\n",
        "For Quartering large bodies of armed troops among us:\n",
        "For protecting them, by a mock Trial, from punishment for any Murders which they should commit on the Inhabitants of these States:\n",
        "For cutting off our Trade with all parts of the world:\n",
        "For imposing Taxes on us without our Consent:\n",
        "For depriving us in many cases, of the benefits of Trial by Jury:\n",
        "For transporting us beyond Seas to be tried for pretended offences\n",
        "For abolishing the free System of English Laws in a neighbouring Province, establishing therein an Arbitrary government, and enlarging its Boundaries so as to render it at once an example and fit instrument for introducing the same absolute rule into these Colonies:\n",
        "For taking away our Charters, abolishing our most valuable Laws, and altering fundamentally the Forms of our Governments:\n",
        "For suspending our own Legislatures, and declaring themselves invested with power to legislate for us in all cases whatsoever.\n",
        "He has abdicated Government here, by declaring us out of his Protection and waging War against us.\n",
        "He has plundered our seas, ravaged our Coasts, burnt our towns, and destroyed the lives of our people.\n",
        "He is at this time transporting large Armies of foreign Mercenaries to compleat the works of death, desolation and tyranny, already begun with circumstances of Cruelty & perfidy scarcely paralleled in the most barbarous ages, and totally unworthy the Head of a civilized nation.\n",
        "He has constrained our fellow Citizens taken Captive on the high Seas to bear Arms against their Country, to become the executioners of their friends and Brethren, or to fall themselves by their Hands.\n",
        "He has excited domestic insurrections amongst us, and has endeavoured to bring on the inhabitants of our frontiers, the merciless Indian Savages, whose known rule of warfare, is an undistinguished destruction of all ages, sexes and conditions.\n",
        "In every stage of these Oppressions We have Petitioned for Redress in the most humble terms: Our repeated Petitions have been answered only by repeated injury. A Prince whose character is thus marked by every act which may define a Tyrant, is unfit to be the ruler of a free people.\n",
        "Nor have We been wanting in attentions to our Brittish brethren. We have warned them from time to time of attempts by their legislature to extend an unwarrantable jurisdiction over us. We have reminded them of the circumstances of our emigration and settlement here. We have appealed to their native justice and magnanimity, and we have conjured them by the ties of our common kindred to disavow these usurpations, which, would inevitably interrupt our connections and correspondence. They too have been deaf to the voice of justice and of consanguinity. We must, therefore, acquiesce in the necessity, which denounces our Separation, and hold them, as we hold the rest of mankind, Enemies in War, in Peace Friends.\n",
        "We, therefore, the Representatives of the united States of America, in General Congress, Assembled, appealing to the Supreme Judge of the world for the rectitude of our intentions, do, in the Name, and by Authority of the good People of these Colonies, solemnly publish and declare, That these United Colonies are, and of Right ought to be Free and Independent States; that they are Absolved from all Allegiance to the British Crown, and that all political connection between them and the State of Great Britain, is and ought to be totally dissolved; and that as Free and Independent States, they have full Power to levy War, conclude Peace, contract Alliances, establish Commerce, and to do all other Acts and Things which Independent States may of right do. And for the support of this Declaration, with a firm reliance on the protection of divine Providence, we mutually pledge to each other our Lives, our Fortunes and our sacred Honor.\n",
        "'''"
      ],
      "execution_count": 15,
      "outputs": []
    },
    {
      "cell_type": "markdown",
      "metadata": {
        "id": "96d72F0roh5T"
      },
      "source": [
        "## 3. Then, let's create a letter freqency table"
      ]
    },
    {
      "cell_type": "code",
      "metadata": {
        "trusted": true,
        "id": "stzs-fD2oh5U"
      },
      "source": [
        "example_letter_frequency = {\n",
        "    'a' : 0,\n",
        "    'b' : 0,\n",
        "    'c' : 0,\n",
        "    'd' : 0,\n",
        "    'e' : 0,\n",
        "    'f' : 0,\n",
        "    'g' : 0,\n",
        "    'h' : 0,\n",
        "    'i' : 0,\n",
        "    'j' : 0,\n",
        "    'k' : 0,\n",
        "    'l' : 0,\n",
        "    'm' : 0,\n",
        "    'n' : 0,\n",
        "    'o' : 0,\n",
        "    'p' : 0,\n",
        "    'q' : 0,\n",
        "    'r' : 0,\n",
        "    's' : 0,\n",
        "    't' : 0,\n",
        "    'u' : 0,\n",
        "    'v' : 0,\n",
        "    'w' : 0,\n",
        "    'x' : 0,\n",
        "    'y' : 0,\n",
        "    'z' : 0\n",
        "}"
      ],
      "execution_count": 16,
      "outputs": []
    },
    {
      "cell_type": "markdown",
      "metadata": {
        "id": "POaFzw3eoh5X"
      },
      "source": [
        "## 4. Let's calculate frequency of each letter from the message"
      ]
    },
    {
      "cell_type": "code",
      "metadata": {
        "trusted": true,
        "id": "lASrwX1uoh5X",
        "colab": {
          "base_uri": "https://localhost:8080/"
        },
        "outputId": "4ec270a4-f5ea-4420-b09d-ec25fbb1ae90"
      },
      "source": [
        "# First, let's count the frequency of each letter from the message\n",
        "for c in example_text:\n",
        "    cl = c.lower()\n",
        "    if cl in example_letter_frequency:\n",
        "        example_letter_frequency[cl] += 1\n",
        "\n",
        "# Second, calculate the frequency, in percentage\n",
        "count = sum(example_letter_frequency.values())\n",
        "for l in example_letter_frequency:\n",
        "    example_letter_frequency[l] = example_letter_frequency[l] / count * 100\n",
        "\n",
        "# Third, let's sort by the frequency\n",
        "example_letter_frequency = {k: v for k, v in sorted(example_letter_frequency.items(), key=lambda item: item[1], reverse=True)}\n",
        "\n",
        "# Last, let's observe the result\n",
        "print('letter  Message\\'s frequency   Standard frequency')\n",
        "for l in example_letter_frequency:\n",
        "    print('{:<7} {:<21} {:<10}'.format(l, format(example_letter_frequency[l], '.2f'), letter_frequency.get(l, 0)))"
      ],
      "execution_count": 17,
      "outputs": [
        {
          "output_type": "stream",
          "name": "stdout",
          "text": [
            "letter  Message's frequency   Standard frequency\n",
            "e       13.15                 11.162    \n",
            "t       9.83                  9.356     \n",
            "o       7.84                  7.507     \n",
            "n       7.40                  6.749     \n",
            "a       7.33                  8.497     \n",
            "s       7.30                  6.327     \n",
            "i       6.89                  7.546     \n",
            "r       6.49                  7.587     \n",
            "h       5.34                  6.094     \n",
            "d       3.85                  4.253     \n",
            "l       3.47                  4.025     \n",
            "u       3.22                  2.758     \n",
            "c       2.82                  2.202     \n",
            "f       2.76                  2.228     \n",
            "m       2.22                  2.406     \n",
            "p       2.09                  1.929     \n",
            "g       1.97                  2.015     \n",
            "w       1.47                  2.56      \n",
            "b       1.44                  1.492     \n",
            "y       1.23                  1.994     \n",
            "v       1.12                  0.978     \n",
            "j       0.24                  0.153     \n",
            "k       0.21                  1.292     \n",
            "x       0.14                  0.15      \n",
            "q       0.09                  0.095     \n",
            "z       0.06                  0.077     \n"
          ]
        }
      ]
    },
    {
      "cell_type": "markdown",
      "metadata": {
        "id": "gLR6aSKToh5a"
      },
      "source": [
        "## 5. So, this is your work. First this is the ciphertext in question"
      ]
    },
    {
      "cell_type": "code",
      "metadata": {
        "trusted": true,
        "id": "sCyu5LXyoh5a"
      },
      "source": [
        "ciphertext = '''hm vgd ehtuv okzbd yd gzxd ftzmvdc vn fnc, zmc ar vghu nwt otdudmv bgztvdt bnmehtldc ent wu zmc nwt gdhtu ent dxdt vgzv vgd dmfkhug bgwtbg ugzkk ad etdd, zmc ugzkk gzxd gdt thfgvu dmvhtd, zmc gdt khadtvhdu hmxhnkzvd; zmc yd yhkk vgzv hv ad vgwu naudtxdc; yghbg hu zooztdmv etnl vghu vgzv vgd etddcnl ne dkdbvhnmu, yghbg hu tdbjnmdc lnuv hlontvzmv zmc xdtr duudmvhzk vn vgd dmfkhug bgwtbg, yd, ne nwt owtd zmc wmbnmuvtzhmdc yhkk, chc ftzmv, zmc chc ar nwt bgztvdt bnmehtl zmc chc navzhm vgd tzvhehbzvhnm ne vgd uzld etnl nwt kntc. onod hmmnbdmv hhh., adentd vgd pwzttdk ztnud advyddm wu zmc nwt aztnmu: zmc vghu yd yhkk naudtxd, zmc nwt yhkk hu vgzv hv ad naudtxdc hm fnnc ezhvg ar nwt gdhtu ent dxdt. yd gzxd zkun ftzmvdc vn zkk etddldm ne nwt jhmfcnl, ent wu zmc nwt gdhtu ent dxdt, zkk vgd wmcdtythvvdm khadtvhdu, vn ad gzc zmc gdkc ar vgdl zmc vgdht gdhtu, ne wu zmc nwt gdhtu ent dxdt.\\nhe zmr ne nwt dztku nt aztnmu, nt nvgdtu gnkchmf ne wu hm bghde ar lhkhvztr udtxhbd ugzkk gzxd chdc, zmc zv vgd vhld ne ghu cdzvg ghu gdht ugzkk ad ne ewkk zfd zmc nyd \"tdkhde\" gd ugzkk gzxd ghu hmgdthvzmbd nm ozrldmv ne vgd zmbhdmv tdkhde, mzldkr vgd gdht nt gdhtu ne zm dztk, £100 ent z ygnkd dztk\\'u aztnmr; vgd gdht nt gdhtu ne z aztnm, £100 ent z ygnkd aztnmr; vgd gdht nt gdhtu ne z jmhfgv, 100u. zv lnuv ent z ygnkd jmhfgv\\'u edd; zmc ygndxdt nydu kduu kdv ghl fhxd kduu, zbbntchmf vn vgd zmbhdmv bwuvnl ne ehdeu.\\nhe, gnydxdt, vgd gdht ne zmr ne vgd zentduzhc gzu addm wmcdt zfd zmc hm yztcugho, kdv ghl gzxd ghu hmgdthvzmbd yhvgnwv tdkhde zmc yhvgnwv ehmd ygdm gd bnldu ne zfd.\\ngd fwztchzm ne vgd kzmc ne zm gdht ygn hu vgwu wmcdt zfd, ugzkk vzjd etnl vgd kzmc ne vgd gdht mnvghmf awv tdzunmzakd otncwbd, tdzunmzakd bwuvnlu, zmc tdzunmzakd udtxhbdu, zmc vgzv yhvgnwv cduvtwbvhnm nt yzuvd ne ldm nt fnncu; zmc he yd gzxd bnllhvvdc vgd yztcugho ne vgd kzmcu ne zmr uwbg lhmnt vn vgd ugdthee, nt vn zmr nvgdt ygn hu tduonmuhakd vn wu ent hvu huuwdu, zmc gd gzu lzcd cduvtwbvhnm nt yzuvd ne ygzv gd gnkcu hm yztcugho, yd yhkk vzjd ne ghl zldmcu, zmc vgd kzmc ugzkk ad bnllhvvdc vn vyn kzyewk zmc chubtddv ldm ne vgzv edd, ygn ugzkk ad tduonmuhakd ent vgd huuwdu vn wu nt vn ghl vn ygnl yd ugzkk zuuhfm vgdl; zmc he yd gzxd fhxdm nt unkc vgd yztcugho ne zmr uwbg kzmc vn zmr nmd zmc gd gzu vgdtdhm lzcd cduvtwbvhnm nt yzuvd, gd ugzkk knud vgzv yztcugho, zmc hv ugzkk ad vtzmuedttdc vn vyn kzyewk zmc chubtddv ldm ne vgzv ehde, ygn ugzkk ad tduonmuhakd vn wu hm khjd lzmmdt zu zentduzhc.\\nvgd fwztchzm, lntdnxdt, un knmf zu gd gzu vgd yztcugho ne vgd kzmc, ugzkk jddo wo vgd gnwudu, oztju, ehugonmcu, uvzmju, lhkku, zmc nvgdt vghmfu odtvzhmhmf vn vgd kzmc, nwv ne vgd huuwdu ne vgd uzld kzmc; zmc gd ugzkk tduvntd vn vgd gdht, ygdm gd gzu bnld vn ewkk zfd, zkk ghu kzmc, uvnbjdc yhvg oknwfgu zmc \"yzrmzfd,\" zbbntchmf zu vgd udzunm ne gwuazmctr ugzkk tdpwhtd, zmc vgd huuwdu ne vgd kzmc bzm tdzunmzakr adzt.\\ngdhtu ugzkk ad lztthdc yhvgnwv chuoztzfdldmv, rdv un vgzv adentd vgd lztthzfd vzjdu okzbd vgd mdztduv hm aknnc vn vgzv gdht ugzkk gzxd mnvhbd.\\nz yhcny, zevdt vgd cdzvg ne gdt gwuazmc, ugzkk entvgyhvg zmc yhvgnwv cheehbwkvr gzxd gdt lztthzfd ontvhnm zmc hmgdthvzmbd; mnt ugzkk ugd fhxd zmrvghmf ent gdt cnydt, nt ent gdt lztthzfd ontvhnm, nt ent vgd hmgdthvzmbd yghbg gdt gwuazmc zmc ugd gdkc nm vgd czr ne vgd cdzvg ne vgzv gwuazmc; zmc ugd lzr tdlzhm hm vgd gnwud ne gdt gwuazmc ent entvr czru zevdt ghu cdzvg, yhvghm yghbg vhld gdt cnydt ugzkk ad zuuhfmdc vn gdt.\\nmn yhcny ugzkk ad bnlodkkdc vn lzttr, un knmf zu ugd otdedtu vn khxd yhvgnwv z gwuazmc; otnxhcdc zkyzru vgzv ugd fhxdu udbwthvr mnv vn lzttr yhvgnwv nwt bnmudmv, he ugd gnkcu ne wu, nt yhvgnwv vgd bnmudmv ne vgd kntc ne ygnl ugd gnkcu, he ugd gnkcu ne zmnvgdt.\\nmdhvgdt yd mnt nwt azhkheeu ugzkk udhsd zmr kzmc nt tdmv ent zmr cdav, un knmf zu vgd bgzvvdku ne vgd cdavnt ztd uweehbhdmv vn tdozr vgd cdav; mnt ugzkk vgd uwtdvhdu ne vgd cdavnt ad chuvtzhmdc un knmf zu vgd othmbhozk cdavnt hu zakd vn uzvhuer vgd cdav; zmc he vgd othmbhozk cdavnt ugzkk ezhk vn ozr vgd cdav, gzxhmf mnvghmf ygdtdyhvg vn ozr hv, vgdm vgd uwtdvhdu ugzkk zmuydt ent vgd cdav; zmc kdv vgdl gzxd vgd kzmcu zmc tdmvu ne vgd cdavnt, he vgdr cduhtd vgdl, wmvhk vgdr ztd hmcdlmhehdc ent vgd cdav yghbg vgdr gzxd ozhc ent ghl, wmkduu vgd othmbhozk cdavnt bzm ugny otnne vgzv gd hu chubgztfdc vgdtdne zu zfzhmuv vgd uzhc uwtdvhdu\\nhe nmd ygn gzu anttnydc etnl vgd idyu zmr uwl, ftdzv nt ulzkk, chd adentd vgzv knzm bzm ad tdozhc, vgd cdav ugzkk mnv adzt hmvdtduv yghkd vgd gdht hu wmcdt zfd, ne ygnlundxdt gd lzr gnkc; zmc he vgd cdav ezkk hmvn nwt gzmcu, yd yhkk mnv vzjd zmrvghmf dqbdov vgd othmbhozk uwl bnmvzhmdc hm vgd anmc.'''"
      ],
      "execution_count": 18,
      "outputs": []
    },
    {
      "cell_type": "markdown",
      "metadata": {
        "id": "5pIuKqiooh5c"
      },
      "source": [
        "## 6. First step, find the frequency of each letter in the cipher text."
      ]
    },
    {
      "cell_type": "code",
      "metadata": {
        "trusted": true,
        "id": "G3G39v78oh5d"
      },
      "source": [
        "cipher_letter_frequency = {\n",
        "    'a' : 0,\n",
        "    'b' : 0,\n",
        "    'c' : 0,\n",
        "    'd' : 0,\n",
        "    'e' : 0,\n",
        "    'f' : 0,\n",
        "    'g' : 0,\n",
        "    'h' : 0,\n",
        "    'i' : 0,\n",
        "    'j' : 0,\n",
        "    'k' : 0,\n",
        "    'l' : 0,\n",
        "    'm' : 0,\n",
        "    'n' : 0,\n",
        "    'o' : 0,\n",
        "    'p' : 0,\n",
        "    'q' : 0,\n",
        "    'r' : 0,\n",
        "    's' : 0,\n",
        "    't' : 0,\n",
        "    'u' : 0,\n",
        "    'v' : 0,\n",
        "    'w' : 0,\n",
        "    'x' : 0,\n",
        "    'y' : 0,\n",
        "    'z' : 0\n",
        "}"
      ],
      "execution_count": 19,
      "outputs": []
    },
    {
      "cell_type": "code",
      "metadata": {
        "trusted": true,
        "id": "V8gaSBGWoh5i",
        "outputId": "564eaf24-1a30-4dc9-e174-8454e1cfdd8e",
        "colab": {
          "base_uri": "https://localhost:8080/"
        }
      },
      "source": [
        "# First, let's count the frequency of each letter from the ciphertext\n",
        "for c in ciphertext:\n",
        "    cl = c.lower()\n",
        "    if cl in cipher_letter_frequency:\n",
        "        cipher_letter_frequency[cl] += 1\n",
        "\n",
        "# Second, calculate the frequency, in percentage\n",
        "total_count = sum(cipher_letter_frequency.values())\n",
        "for l in cipher_letter_frequency:\n",
        "    cipher_letter_frequency[l] = cipher_letter_frequency[l] / total_count * 100\n",
        "\n",
        "# Third, let's sort by the frequency\n",
        "cipher_letter_frequency = {k: v for k, v in sorted(cipher_letter_frequency.items(), key=lambda item: item[1], reverse=True)}\n",
        "\n",
        "# Last, let's observe the result\n",
        "print('Letter  Ciphertext Frequency (%)')\n",
        "for l in cipher_letter_frequency:\n",
        "    print('{:<7} {:<21}'.format(l, format(cipher_letter_frequency[l], '.2f')))\n"
      ],
      "execution_count": 27,
      "outputs": [
        {
          "output_type": "stream",
          "name": "stdout",
          "text": [
            "Letter  Ciphertext Frequency (%)\n",
            "d       12.41                \n",
            "n       8.26                 \n",
            "z       8.17                 \n",
            "g       7.86                 \n",
            "v       7.63                 \n",
            "t       7.23                 \n",
            "u       7.01                 \n",
            "h       6.83                 \n",
            "m       6.43                 \n",
            "k       4.69                 \n",
            "c       4.55                 \n",
            "e       3.79                 \n",
            "y       2.68                 \n",
            "w       2.41                 \n",
            "l       2.01                 \n",
            "b       1.83                 \n",
            "a       1.70                 \n",
            "f       1.21                 \n",
            "x       1.21                 \n",
            "o       0.94                 \n",
            "r       0.85                 \n",
            "j       0.27                 \n",
            "p       0.04                 \n",
            "i       0.00                 \n",
            "q       0.00                 \n",
            "s       0.00                 \n"
          ]
        }
      ]
    },
    {
      "cell_type": "markdown",
      "metadata": {
        "id": "7HSh2f_eoh5l"
      },
      "source": [
        "## 7. After you get the frequency, let's compare with the Standard frequency, so we can guest which letter map to which letter"
      ]
    },
    {
      "cell_type": "code",
      "metadata": {
        "trusted": true,
        "id": "262wzPMDoh5l",
        "colab": {
          "base_uri": "https://localhost:8080/"
        },
        "outputId": "e4082606-271a-47f6-86a2-5a75d6bd5ebf"
      },
      "source": [
        "print('Std-letter  Std-Freq   Cipher-letter  Cipher-Freq')\n",
        "count = 0;\n",
        "cipher_letter_frequency_as_list = list(cipher_letter_frequency)\n",
        "for l in letter_frequency:\n",
        "    lc = cipher_letter_frequency_as_list[count]\n",
        "    print('{:<7} {:<21} {:<10} {:<10}'.format(l, format(letter_frequency[l], '.2f'), lc, cipher_letter_frequency[lc]))\n",
        "    count = count + 1\n",
        "\n"
      ],
      "execution_count": 21,
      "outputs": [
        {
          "output_type": "stream",
          "name": "stdout",
          "text": [
            "Std-letter  Std-Freq   Cipher-letter  Cipher-Freq\n",
            "e       11.16                 d          12.410714285714286\n",
            "t       9.36                  n          8.258928571428571\n",
            "a       8.50                  z          8.169642857142858\n",
            "r       7.59                  g          7.857142857142857\n",
            "i       7.55                  v          7.633928571428572\n",
            "o       7.51                  t          7.232142857142858\n",
            "n       6.75                  u          7.008928571428571\n",
            "s       6.33                  h          6.830357142857142\n",
            "h       6.09                  m          6.428571428571428\n",
            "d       4.25                  k          4.6875    \n",
            "l       4.03                  c          4.553571428571428\n",
            "u       2.76                  e          3.7946428571428568\n",
            "w       2.56                  y          2.6785714285714284\n",
            "m       2.41                  w          2.410714285714286\n",
            "f       2.23                  l          2.0089285714285716\n",
            "c       2.20                  b          1.830357142857143\n",
            "g       2.02                  a          1.6964285714285714\n",
            "y       1.99                  f          1.205357142857143\n",
            "p       1.93                  x          1.205357142857143\n",
            "b       1.49                  o          0.9375    \n",
            "k       1.29                  r          0.8482142857142857\n",
            "v       0.98                  j          0.26785714285714285\n",
            "j       0.15                  p          0.044642857142857144\n",
            "x       0.15                  i          0.0       \n",
            "q       0.10                  q          0.0       \n",
            "z       0.08                  s          0.0       \n"
          ]
        }
      ]
    },
    {
      "cell_type": "markdown",
      "metadata": {
        "id": "bOyF46G2oh5o"
      },
      "source": [
        "## 8. Final step, let's create a mapping table to decrypt the message"
      ]
    },
    {
      "cell_type": "code",
      "metadata": {
        "trusted": true,
        "id": "kLU2CyRFoh5o",
        "colab": {
          "base_uri": "https://localhost:8080/"
        },
        "outputId": "76010f44-817b-461a-a609-9185cddf3e31"
      },
      "source": [
        "# Change source (cipher-letter) and destination(std-letter) to reflect the above mapping\n",
        "source = ''.join(cipher_letter_frequency.keys())\n",
        "destination = ''.join(letter_frequency.keys())\n",
        "\n",
        "mapping = str.maketrans(source, destination)\n",
        "\n",
        "# Function to map from source -> destination, letter by letter\n",
        "def decrypt(text):\n",
        "    return text.translate(mapping)\n",
        "# Let's decrypt it\n",
        "plaintext = decrypt(ciphertext)\n",
        "\n",
        "# Show the result.\n",
        "print(plaintext)"
      ],
      "execution_count": 28,
      "outputs": [
        {
          "output_type": "stream",
          "name": "stdout",
          "text": [
            "sh ire usoni bdace we rape yoahiel it ytl, ahl gk irsn tmo boenehi craoieo cthusofel uto mn ahl tmo reson uto epeo irai ire ehydsnr crmocr nradd ge uoee, ahl nradd rape reo osyrin ehisoe, ahl reo dsgeoisen shpstdaie; ahl we wsdd irai si ge irmn tgneopel; wrscr sn abbaoehi uotf irsn irai ire uoeeltf tu edecisthn, wrscr sn oecvthel ftni sfbtoiahi ahl peok ennehisad it ire ehydsnr crmocr, we, tu tmo bmoe ahl mhcthnioashel wsdd, lsl yoahi, ahl lsl gk tmo craoieo cthusof ahl lsl tgiash ire oaisuscaisth tu ire nafe uotf tmo dtol. btbe shhtcehi sss., geutoe ire jmaooed aotne geiweeh mn ahl tmo gaothn: ahl irsn we wsdd tgneope, ahl tmo wsdd sn irai si ge tgneopel sh yttl uasir gk tmo reson uto epeo. we rape adnt yoahiel it add uoeefeh tu tmo vshyltf, uto mn ahl tmo reson uto epeo, add ire mhleowosiieh dsgeoisen, it ge ral ahl redl gk iref ahl ireso reson, tu mn ahl tmo reson uto epeo.\n",
            "su ahk tu tmo eaodn to gaothn, to tireon rtdlshy tu mn sh crseu gk fsdsiaok neopsce nradd rape lsel, ahl ai ire isfe tu rsn leair rsn reso nradd ge tu umdd aye ahl twe \"oedseu\" re nradd rape rsn shreosiahce th bakfehi tu ire ahcsehi oedseu, hafedk ire reso to reson tu ah eaod, £100 uto a wrtde eaod'n gaothk; ire reso to reson tu a gaoth, £100 uto a wrtde gaothk; ire reso to reson tu a vhsyri, 100n. ai ftni uto a wrtde vhsyri'n uee; ahl wrtepeo twen denn dei rsf yspe denn, acctolshy it ire ahcsehi cmnitf tu useun.\n",
            "su, rtwepeo, ire reso tu ahk tu ire autoenasl ran geeh mhleo aye ahl sh waolnrsb, dei rsf rape rsn shreosiahce wsirtmi oedseu ahl wsirtmi ushe wreh re ctfen tu aye.\n",
            "re ymaolsah tu ire dahl tu ah reso wrt sn irmn mhleo aye, nradd iave uotf ire dahl tu ire reso htirshy gmi oeanthagde botlmce, oeanthagde cmnitfn, ahl oeanthagde neopscen, ahl irai wsirtmi leniomcisth to wanie tu feh to yttln; ahl su we rape ctffsiiel ire waolnrsb tu ire dahln tu ahk nmcr fshto it ire nreosuu, to it ahk tireo wrt sn oenbthnsgde it mn uto sin snnmen, ahl re ran fale leniomcisth to wanie tu wrai re rtdln sh waolnrsb, we wsdd iave tu rsf afehln, ahl ire dahl nradd ge ctffsiiel it iwt dawumd ahl lsncoeei feh tu irai uee, wrt nradd ge oenbthnsgde uto ire snnmen it mn to it rsf it wrtf we nradd annsyh iref; ahl su we rape yspeh to ntdl ire waolnrsb tu ire dahln tu ahk nmcr dahl it ahk the ahl re ran ireoesh fale leniomcisth to wanie, re nradd dtne irai waolnrsb, ahl si nradd ge ioahnueooel it iwt dawumd ahl lsncoeei feh tu irai useu, wrt nradd ge oenbthnsgde uto ire snnmen it mn to it rsf it wrtf we nradd annsyh iref; ahl su we rape yspeh to ntdl ire waolnrsb tu ire dahln tu ahk nmcr dahl it ahk the ahl re ran ireoesh fale leniomcisth to wanie, re nradd dtne irai waolnrsb, ahl si nradd ge ioahnueooel it iwt dawumd ahl lsncoeei feh tu irai useu, wrt nradd ge oenbthnsgde uto ire snnmen it mn to it rsf it wrtf we nradd annsyh iref; ahl su we rape yspeh to ntdl ire wao\n"
          ]
        }
      ]
    },
    {
      "cell_type": "markdown",
      "metadata": {
        "trusted": true,
        "id": "bU2Nk1-toh5s"
      },
      "source": [
        "## 9. Do you know this document?"
      ]
    },
    {
      "cell_type": "markdown",
      "metadata": {
        "id": "aPgd1tViKtHC"
      },
      "source": [
        "Yes I do|No I don't"
      ]
    }
  ]
}